{
  "nbformat": 4,
  "nbformat_minor": 0,
  "metadata": {
    "colab": {
      "name": "PopulationAnalysis.ipynb",
      "provenance": [],
      "collapsed_sections": [],
      "include_colab_link": true
    },
    "kernelspec": {
      "name": "python3",
      "display_name": "Python 3"
    }
  },
  "cells": [
    {
      "cell_type": "markdown",
      "metadata": {
        "id": "view-in-github",
        "colab_type": "text"
      },
      "source": [
        "<a href=\"https://colab.research.google.com/github/kartika-nair/SDS-Project/blob/master/PopulationAnalysis.ipynb\" target=\"_parent\"><img src=\"https://colab.research.google.com/assets/colab-badge.svg\" alt=\"Open In Colab\"/></a>"
      ]
    },
    {
      "cell_type": "code",
      "metadata": {
        "id": "n2V3qN-TmLk1",
        "outputId": "582f3990-99c7-4431-a90f-58a0f98eb6ac",
        "colab": {
          "base_uri": "https://localhost:8080/"
        }
      },
      "source": [
        "from google.colab import drive\n",
        "drive.mount('/content/drive')"
      ],
      "execution_count": 1,
      "outputs": [
        {
          "output_type": "stream",
          "text": [
            "Drive already mounted at /content/drive; to attempt to forcibly remount, call drive.mount(\"/content/drive\", force_remount=True).\n"
          ],
          "name": "stdout"
        }
      ]
    },
    {
      "cell_type": "code",
      "metadata": {
        "id": "AzcAty3kn0kb"
      },
      "source": [
        "import pandas as pd\n",
        "import matplotlib.pyplot as plt\n",
        "import seaborn as sns\n",
        "import numpy as np "
      ],
      "execution_count": 2,
      "outputs": []
    },
    {
      "cell_type": "markdown",
      "metadata": {
        "id": "EKGk291NPTWP"
      },
      "source": [
        "Exploratory Data Analysis"
      ]
    },
    {
      "cell_type": "code",
      "metadata": {
        "id": "p24Ty6rH4vt0",
        "outputId": "cc82dc73-5714-4bc2-b954-5ad2b7e677b6",
        "colab": {
          "base_uri": "https://localhost:8080/",
          "height": 237
        }
      },
      "source": [
        "df = pd.read_csv(\"/content/drive/My Drive/Colab Notebooks/PopulationDataset.csv\")\n",
        "\n",
        "#to know the columns and the header of the dataset\n",
        "df.head()"
      ],
      "execution_count": 3,
      "outputs": [
        {
          "output_type": "execute_result",
          "data": {
            "text/html": [
              "<div>\n",
              "<style scoped>\n",
              "    .dataframe tbody tr th:only-of-type {\n",
              "        vertical-align: middle;\n",
              "    }\n",
              "\n",
              "    .dataframe tbody tr th {\n",
              "        vertical-align: top;\n",
              "    }\n",
              "\n",
              "    .dataframe thead th {\n",
              "        text-align: right;\n",
              "    }\n",
              "</style>\n",
              "<table border=\"1\" class=\"dataframe\">\n",
              "  <thead>\n",
              "    <tr style=\"text-align: right;\">\n",
              "      <th></th>\n",
              "      <th>Year</th>\n",
              "      <th>Country</th>\n",
              "      <th>Population</th>\n",
              "      <th>Yearly % Change</th>\n",
              "      <th>Yearly Change</th>\n",
              "      <th>Migrants (net)</th>\n",
              "      <th>Median Age</th>\n",
              "      <th>Fertility Rate</th>\n",
              "      <th>Density (P/Km²)</th>\n",
              "      <th>Urban Pop %</th>\n",
              "      <th>Urban Population</th>\n",
              "      <th>Country's Share of World Pop %</th>\n",
              "      <th>World Population</th>\n",
              "      <th>Country Global Rank</th>\n",
              "    </tr>\n",
              "  </thead>\n",
              "  <tbody>\n",
              "    <tr>\n",
              "      <th>0</th>\n",
              "      <td>2020</td>\n",
              "      <td>China</td>\n",
              "      <td>1439323776</td>\n",
              "      <td>0.39</td>\n",
              "      <td>5540090</td>\n",
              "      <td>-348399.0</td>\n",
              "      <td>38.4</td>\n",
              "      <td>1.69</td>\n",
              "      <td>153</td>\n",
              "      <td>60.8</td>\n",
              "      <td>875075919.0</td>\n",
              "      <td>18.47</td>\n",
              "      <td>7794798739</td>\n",
              "      <td>1</td>\n",
              "    </tr>\n",
              "    <tr>\n",
              "      <th>1</th>\n",
              "      <td>2019</td>\n",
              "      <td>China</td>\n",
              "      <td>1433783686</td>\n",
              "      <td>0.43</td>\n",
              "      <td>6135900</td>\n",
              "      <td>-348399.0</td>\n",
              "      <td>37.0</td>\n",
              "      <td>1.65</td>\n",
              "      <td>153</td>\n",
              "      <td>59.7</td>\n",
              "      <td>856409297.0</td>\n",
              "      <td>18.59</td>\n",
              "      <td>7713468100</td>\n",
              "      <td>1</td>\n",
              "    </tr>\n",
              "    <tr>\n",
              "      <th>2</th>\n",
              "      <td>2018</td>\n",
              "      <td>China</td>\n",
              "      <td>1427647786</td>\n",
              "      <td>0.47</td>\n",
              "      <td>6625995</td>\n",
              "      <td>-348399.0</td>\n",
              "      <td>37.0</td>\n",
              "      <td>1.65</td>\n",
              "      <td>152</td>\n",
              "      <td>58.6</td>\n",
              "      <td>837022095.0</td>\n",
              "      <td>18.71</td>\n",
              "      <td>7631091040</td>\n",
              "      <td>1</td>\n",
              "    </tr>\n",
              "    <tr>\n",
              "      <th>3</th>\n",
              "      <td>2017</td>\n",
              "      <td>China</td>\n",
              "      <td>1421021791</td>\n",
              "      <td>0.49</td>\n",
              "      <td>6972440</td>\n",
              "      <td>-348399.0</td>\n",
              "      <td>37.0</td>\n",
              "      <td>1.65</td>\n",
              "      <td>151</td>\n",
              "      <td>57.5</td>\n",
              "      <td>816957613.0</td>\n",
              "      <td>18.83</td>\n",
              "      <td>7547858925</td>\n",
              "      <td>1</td>\n",
              "    </tr>\n",
              "    <tr>\n",
              "      <th>4</th>\n",
              "      <td>2016</td>\n",
              "      <td>China</td>\n",
              "      <td>1414049351</td>\n",
              "      <td>0.51</td>\n",
              "      <td>7201481</td>\n",
              "      <td>-348399.0</td>\n",
              "      <td>37.0</td>\n",
              "      <td>1.65</td>\n",
              "      <td>151</td>\n",
              "      <td>56.3</td>\n",
              "      <td>796289491.0</td>\n",
              "      <td>18.94</td>\n",
              "      <td>7464022049</td>\n",
              "      <td>1</td>\n",
              "    </tr>\n",
              "  </tbody>\n",
              "</table>\n",
              "</div>"
            ],
            "text/plain": [
              "   Year Country  ...  World Population  Country Global Rank\n",
              "0  2020   China  ...        7794798739                    1\n",
              "1  2019   China  ...        7713468100                    1\n",
              "2  2018   China  ...        7631091040                    1\n",
              "3  2017   China  ...        7547858925                    1\n",
              "4  2016   China  ...        7464022049                    1\n",
              "\n",
              "[5 rows x 14 columns]"
            ]
          },
          "metadata": {
            "tags": []
          },
          "execution_count": 3
        }
      ]
    },
    {
      "cell_type": "code",
      "metadata": {
        "id": "2udYuq64CHAY",
        "outputId": "e71d3488-870b-4f18-c681-7006da5bdc31",
        "colab": {
          "base_uri": "https://localhost:8080/"
        }
      },
      "source": [
        "#finding the missing values\n",
        "print(df.isnull().sum())"
      ],
      "execution_count": 4,
      "outputs": [
        {
          "output_type": "stream",
          "text": [
            "Year                                0\n",
            "Country                             0\n",
            "Population                          0\n",
            "Yearly % Change                     0\n",
            "Yearly Change                       0\n",
            "Migrants (net)                    595\n",
            "Median Age                        595\n",
            "Fertility Rate                    595\n",
            "Density (P/Km²)                     0\n",
            "Urban Pop %                       113\n",
            "Urban Population                  113\n",
            "Country's Share of World Pop %      0\n",
            "World Population                    0\n",
            "Country Global Rank                 0\n",
            "dtype: int64\n"
          ],
          "name": "stdout"
        }
      ]
    },
    {
      "cell_type": "code",
      "metadata": {
        "id": "4n9kxTkMEKbo",
        "outputId": "544c1ae5-6fb5-4e01-aa1b-aa7e32839068",
        "colab": {
          "base_uri": "https://localhost:8080/",
          "height": 435
        }
      },
      "source": [
        "#missing data heatmap\n",
        "sns.heatmap(df.isnull(), cbar=False)"
      ],
      "execution_count": 5,
      "outputs": [
        {
          "output_type": "execute_result",
          "data": {
            "text/plain": [
              "<matplotlib.axes._subplots.AxesSubplot at 0x7fc38a575978>"
            ]
          },
          "metadata": {
            "tags": []
          },
          "execution_count": 5
        },
        {
          "output_type": "display_data",
          "data": {
            "image/png": "[encoded data removed]",
            "text/plain": [
              "<Figure size 432x288 with 1 Axes>"
            ]
          },
          "metadata": {
            "tags": [],
            "needs_background": "light"
          }
        }
      ]
    },
    {
      "cell_type": "code",
      "metadata": {
        "id": "51mzbBnl_t-O"
      },
      "source": [
        "#splitting the dataframe based on the countries (Making a dataframe dictionary)\n",
        "\n",
        "Cnt = df.Country.unique()\n",
        "DataFrameDict = {elem : pd.DataFrame for elem in Cnt}\n",
        "for key in DataFrameDict.keys():\n",
        "  DataFrameDict[key] = df[:][df.Country == key]"
      ],
      "execution_count": 6,
      "outputs": []
    },
    {
      "cell_type": "code",
      "metadata": {
        "id": "gXy0NCS_IWHq"
      },
      "source": [
        "#remaning the columns to allow selection\n",
        "d = {\"Urban Pop %\": 10, \"Urban Population\":11 }\n",
        "df = df.rename(columns=d)\n",
        "\n",
        "#interpolating the values for urban population and urban population percentage\n",
        "cols=[10,11]\n",
        "df[cols] = df[cols].interpolate()\n",
        "\n",
        "#changing the column names back to the original ones\n",
        "m = {10:\"Urban Pop %\",11:\"Urban Population\"}\n",
        "df = df.rename(columns=m)\n",
        "\n",
        "#dropping NaN values that can't be computed\n",
        "df=df.dropna()"
      ],
      "execution_count": 7,
      "outputs": []
    },
    {
      "cell_type": "code",
      "metadata": {
        "id": "ThtIYUTN4w55",
        "outputId": "57fe56e5-cddf-47ac-d4a9-6ac1f3100adb",
        "colab": {
          "base_uri": "https://localhost:8080/",
          "height": 435
        }
      },
      "source": [
        "#checking for missing values using a heatmap\n",
        "sns.heatmap(df.isnull(), cbar=False)"
      ],
      "execution_count": 8,
      "outputs": [
        {
          "output_type": "execute_result",
          "data": {
            "text/plain": [
              "<matplotlib.axes._subplots.AxesSubplot at 0x7fc387cb3c88>"
            ]
          },
          "metadata": {
            "tags": []
          },
          "execution_count": 8
        },
        {
          "output_type": "display_data",
          "data": {
            "image/png": "[encoded data removed]",
            "text/plain": [
              "<Figure size 432x288 with 1 Axes>"
            ]
          },
          "metadata": {
            "tags": [],
            "needs_background": "light"
          }
        }
      ]
    },
    {
      "cell_type": "code",
      "metadata": {
        "id": "ZHzBf_kp57qP",
        "outputId": "e97a71cd-ab7d-4d50-9fed-7ee3b299d44a",
        "colab": {
          "base_uri": "https://localhost:8080/"
        }
      },
      "source": [
        "#Density column is of type object, hence converting to float\n",
        "\n",
        "def convert_me(val):\n",
        "  new_val = val.replace(',','')\n",
        "  return float(new_val)\n",
        "\n",
        "df['Density (P/Km²)'].apply(convert_me)"
      ],
      "execution_count": 9,
      "outputs": [
        {
          "output_type": "execute_result",
          "data": {
            "text/plain": [
              "0       153.0\n",
              "1       153.0\n",
              "2       152.0\n",
              "3       151.0\n",
              "4       151.0\n",
              "        ...  \n",
              "3612    142.0\n",
              "3613    146.0\n",
              "3614    133.0\n",
              "3615    123.0\n",
              "3616    113.0\n",
              "Name: Density (P/Km²), Length: 3600, dtype: float64"
            ]
          },
          "metadata": {
            "tags": []
          },
          "execution_count": 9
        }
      ]
    },
    {
      "cell_type": "markdown",
      "metadata": {
        "id": "YyzZiappPMFU"
      },
      "source": [
        "Graph Visualization"
      ]
    },
    {
      "cell_type": "code",
      "metadata": {
        "id": "S2o6MeB6HpW-",
        "outputId": "363766e9-8a81-443b-93fe-9a5d8a32c1f0",
        "colab": {
          "base_uri": "https://localhost:8080/",
          "height": 295
        }
      },
      "source": [
        "#Fertility Rate Histogram over the years in Senegal\n",
        "\n",
        "df2 = df[df['Country']=='Senegal'].iloc[::-1]\n",
        "\n",
        "df2.hist(column = 'Fertility Rate')\n",
        "plt.xlabel('Fertility Rate')\n",
        "plt.ylabel('Frequency')\n",
        "plt.title('Fertility Rate Histogram over the years in Senegal')\n",
        "\n",
        "plt.show()"
      ],
      "execution_count": 48,
      "outputs": [
        {
          "output_type": "display_data",
          "data": {
            "image/png": "[encoded data removed]",
            "text/plain": [
              "<Figure size 432x288 with 1 Axes>"
            ]
          },
          "metadata": {
            "tags": [],
            "needs_background": "light"
          }
        }
      ]
    },
    {
      "cell_type": "code",
      "metadata": {
        "id": "IJ5i-opxHsOF",
        "outputId": "9c97943b-e543-4240-827b-3de9c09a9b2d",
        "colab": {
          "base_uri": "https://localhost:8080/",
          "height": 295
        }
      },
      "source": [
        "#Median Age Histogram over the years in Japan\n",
        "\n",
        "df3 = df[df['Country']=='Japan'].iloc[::-1]\n",
        "\n",
        "df3.hist(column = 'Median Age')\n",
        "plt.xlabel('Median Age')\n",
        "plt.ylabel('Frequency')\n",
        "plt.title('Median Age Histogram over the years in Japan')\n",
        "\n",
        "plt.show()"
      ],
      "execution_count": 47,
      "outputs": [
        {
          "output_type": "display_data",
          "data": {
            "image/png": "[encoded data removed]",
            "text/plain": [
              "<Figure size 432x288 with 1 Axes>"
            ]
          },
          "metadata": {
            "tags": [],
            "needs_background": "light"
          }
        }
      ]
    },
    {
      "cell_type": "code",
      "metadata": {
        "id": "59IdevdsKP_G",
        "outputId": "2bc56e2f-415e-4520-b178-44ef537ee8df",
        "colab": {
          "base_uri": "https://localhost:8080/",
          "height": 295
        }
      },
      "source": [
        "#Bar Chart for Density (P/Km²) vs Yearly Change over the years in India\n",
        "\n",
        "x = df[df['Country']=='India']['Density (P/Km²)'].iloc[::-1]\n",
        "y = df[df['Country']=='India']['Yearly Change']\n",
        "\n",
        "plt.xlabel('Density (P/Km²)')\n",
        "plt.ylabel('Yearly Change')\n",
        "plt.title('Density (P/Km²) vs Yearly Change over the years in India')\n",
        "plt.gcf().axes[0].yaxis.get_major_formatter().set_scientific(False)\n",
        "plt.bar(x,y)\n",
        "\n",
        "plt.show()"
      ],
      "execution_count": 50,
      "outputs": [
        {
          "output_type": "display_data",
          "data": {
            "image/png": "[encoded data removed]",
            "text/plain": [
              "<Figure size 432x288 with 1 Axes>"
            ]
          },
          "metadata": {
            "tags": [],
            "needs_background": "light"
          }
        }
      ]
    },
    {
      "cell_type": "code",
      "metadata": {
        "id": "e37zBkOSNQa-",
        "outputId": "09921920-9f0b-4370-ada9-a6e36695dcdf",
        "colab": {
          "base_uri": "https://localhost:8080/",
          "height": 350
        }
      },
      "source": [
        "#Bar Chart for Population and Urban Population over the years in Ukraine\n",
        "\n",
        "barWidth = 0.35\n",
        "r1 = np.arange(len(df[df['Country']=='India']['Population']))\n",
        "r2 = [x + barWidth for x in r1]\n",
        "\n",
        "labels = np.arange(1955, 2020, 5)\n",
        "labels = np.append(labels, [2016, 2017, 2018, 2019, 2020])\n",
        "x= np.arange(len(labels))\n",
        "\n",
        "fig, ax = plt.subplots(figsize = (10, 5))\n",
        "\n",
        "rect1= ax.bar(r1, df[df['Country']=='Ukraine']['Population'], width = barWidth, label='Population')\n",
        "rec2= ax.bar(r2, df[df['Country']=='Ukraine']['Urban Population'], width = barWidth, label='Urban Population')\n",
        "\n",
        "plt.gcf().axes[0].yaxis.get_major_formatter().set_scientific(False)\n",
        "plt.gcf().axes[0].xaxis.get_major_formatter().set_scientific(False)\n",
        "\n",
        "ax.legend()\n",
        "ax.set_xticks(x)\n",
        "ax.set_xticklabels(labels)\n",
        "\n",
        "ax.set_xlabel('Years')\n",
        "ax.set_ylabel('Population')\n",
        "ax.set_title('Population and Urban Population over the years in Ukraine')\n",
        "\n",
        "plt.show()"
      ],
      "execution_count": 13,
      "outputs": [
        {
          "output_type": "display_data",
          "data": {
            "image/png": "[encoded data removed]",
            "text/plain": [
              "<Figure size 720x360 with 1 Axes>"
            ]
          },
          "metadata": {
            "tags": [],
            "needs_background": "light"
          }
        }
      ]
    },
    {
      "cell_type": "code",
      "metadata": {
        "id": "2odWHJgRL7sv",
        "outputId": "ac15bcaa-d5c5-41c5-c8bb-15d90b437ccb",
        "colab": {
          "base_uri": "https://localhost:8080/",
          "height": 295
        }
      },
      "source": [
        "#Bar Chart for Population Density over the years in the USA\n",
        "\n",
        "x = df[df['Country'] == 'United States']['Year'][::-1]\n",
        "x.drop([37, 38, 39,40], axis = 0,inplace=True)\n",
        "\n",
        "y = df[df['Country'] == 'United States']['Density (P/Km²)'][::-1]\n",
        "y.drop([37, 38, 39,40], axis = 0,inplace=True)\n",
        "\n",
        "plt.bar(x,y, width = 1.5)\n",
        "\n",
        "plt.xlabel('Years')\n",
        "plt.ylabel('Population Density')\n",
        "plt.title('Population Density over the years in the US')\n",
        "\n",
        "plt.show()"
      ],
      "execution_count": 14,
      "outputs": [
        {
          "output_type": "display_data",
          "data": {
            "image/png": "[encoded data removed]",
            "text/plain": [
              "<Figure size 432x288 with 1 Axes>"
            ]
          },
          "metadata": {
            "tags": [],
            "needs_background": "light"
          }
        }
      ]
    },
    {
      "cell_type": "code",
      "metadata": {
        "id": "64SMfnvrMw0x",
        "outputId": "d409f6f0-dcc0-409c-9e69-0b5fd84202b4",
        "colab": {
          "base_uri": "https://localhost:8080/",
          "height": 369
        }
      },
      "source": [
        "#Bar Chart for Fertility Rate vs Yearly % Change in Sweden\n",
        "\n",
        "labels = np.arange(1955, 2020, 5)\n",
        "labels = np.append(labels, [2016, 2017, 2018, 2019, 2020])\n",
        "\n",
        "x = np.arange(len(labels))\n",
        "width = 0.35\n",
        "fig, ax = plt.subplots(figsize = (10, 5))\n",
        "\n",
        "rect1 = ax.bar(x-width/2, df[df['Country'] == 'Sweden']['Fertility Rate'], width, label = 'Fertility Rate')\n",
        "rect2 = ax.bar(x+width/2, df[df['Country'] == 'Sweden']['Yearly % Change'], width, label = 'Yearly  % Change')\n",
        "\n",
        "ax.set_ylabel('Rates')\n",
        "ax.set_title('Fertility Rates and Yearly % Change in Population over the years')\n",
        "ax.set_xticks(x)\n",
        "ax.set_xticklabels(labels)\n",
        "ax.legend()\n",
        "\n",
        "fig.tight_layout()\n",
        "\n",
        "plt.show()"
      ],
      "execution_count": 15,
      "outputs": [
        {
          "output_type": "display_data",
          "data": {
            "image/png": "[encoded data removed]",
            "text/plain": [
              "<Figure size 720x360 with 1 Axes>"
            ]
          },
          "metadata": {
            "tags": [],
            "needs_background": "light"
          }
        }
      ]
    },
    {
      "cell_type": "markdown",
      "metadata": {
        "id": "Hs5CLiuaLkad"
      },
      "source": [
        "We see a fall in fertility rate as well as yearly % change in the 1990s, this was due to the economic crisis faced by the country during the 90s. The decrease in fertility rate in the 2010s was linked to the rising uncertainty with respect to the future, due to an increase in crime as well as climate threats.   "
      ]
    },
    {
      "cell_type": "code",
      "metadata": {
        "id": "dXgxWicdbgqI",
        "outputId": "c889f06e-f5f9-424c-e0f0-513fe7b57142",
        "colab": {
          "base_uri": "https://localhost:8080/",
          "height": 268
        }
      },
      "source": [
        "#Box Plot for Fertility Rate of all countries\n",
        "\n",
        "plt.boxplot(df['Fertility Rate'])\n",
        "plt.title('Box Plot for Fertility Rate')\n",
        "plt.xticks([])\n",
        "plt.show()"
      ],
      "execution_count": 16,
      "outputs": [
        {
          "output_type": "display_data",
          "data": {
            "image/png": "[encoded data removed]",
            "text/plain": [
              "<Figure size 432x288 with 1 Axes>"
            ]
          },
          "metadata": {
            "tags": [],
            "needs_background": "light"
          }
        }
      ]
    },
    {
      "cell_type": "code",
      "metadata": {
        "id": "Pp9ZKHWwqLPa",
        "outputId": "416a65b1-c82f-4ce0-cd0f-ecf512aeb69b",
        "colab": {
          "base_uri": "https://localhost:8080/",
          "height": 281
        }
      },
      "source": [
        "#Box Plot for Median Age of all countries\n",
        "\n",
        "plt.boxplot(df['Median Age'])\n",
        "plt.title('Box Plot for Median Age')\n",
        "\n",
        "plt.show()"
      ],
      "execution_count": 17,
      "outputs": [
        {
          "output_type": "display_data",
          "data": {
            "image/png": "[encoded data removed]",
            "text/plain": [
              "<Figure size 432x288 with 1 Axes>"
            ]
          },
          "metadata": {
            "tags": [],
            "needs_background": "light"
          }
        }
      ]
    },
    {
      "cell_type": "markdown",
      "metadata": {
        "id": "8MiEakOQ-X4L"
      },
      "source": [
        "Normalization and Standardization"
      ]
    },
    {
      "cell_type": "code",
      "metadata": {
        "id": "nHX5_JAo5soe",
        "outputId": "ca41eca9-2396-409f-fc36-fcf3bd37f178",
        "colab": {
          "base_uri": "https://localhost:8080/",
          "height": 237
        }
      },
      "source": [
        "df1 = df[df.Country == 'India']\n",
        "df1.head()"
      ],
      "execution_count": 18,
      "outputs": [
        {
          "output_type": "execute_result",
          "data": {
            "text/html": [
              "<div>\n",
              "<style scoped>\n",
              "    .dataframe tbody tr th:only-of-type {\n",
              "        vertical-align: middle;\n",
              "    }\n",
              "\n",
              "    .dataframe tbody tr th {\n",
              "        vertical-align: top;\n",
              "    }\n",
              "\n",
              "    .dataframe thead th {\n",
              "        text-align: right;\n",
              "    }\n",
              "</style>\n",
              "<table border=\"1\" class=\"dataframe\">\n",
              "  <thead>\n",
              "    <tr style=\"text-align: right;\">\n",
              "      <th></th>\n",
              "      <th>Year</th>\n",
              "      <th>Country</th>\n",
              "      <th>Population</th>\n",
              "      <th>Yearly % Change</th>\n",
              "      <th>Yearly Change</th>\n",
              "      <th>Migrants (net)</th>\n",
              "      <th>Median Age</th>\n",
              "      <th>Fertility Rate</th>\n",
              "      <th>Density (P/Km²)</th>\n",
              "      <th>Urban Pop %</th>\n",
              "      <th>Urban Population</th>\n",
              "      <th>Country's Share of World Pop %</th>\n",
              "      <th>World Population</th>\n",
              "      <th>Country Global Rank</th>\n",
              "    </tr>\n",
              "  </thead>\n",
              "  <tbody>\n",
              "    <tr>\n",
              "      <th>18</th>\n",
              "      <td>2020</td>\n",
              "      <td>India</td>\n",
              "      <td>1380004385</td>\n",
              "      <td>0.99</td>\n",
              "      <td>13586631</td>\n",
              "      <td>-532687.0</td>\n",
              "      <td>28.4</td>\n",
              "      <td>2.24</td>\n",
              "      <td>464</td>\n",
              "      <td>35.0</td>\n",
              "      <td>483098640.0</td>\n",
              "      <td>17.70</td>\n",
              "      <td>7794798739</td>\n",
              "      <td>2</td>\n",
              "    </tr>\n",
              "    <tr>\n",
              "      <th>19</th>\n",
              "      <td>2019</td>\n",
              "      <td>India</td>\n",
              "      <td>1366417754</td>\n",
              "      <td>1.02</td>\n",
              "      <td>13775474</td>\n",
              "      <td>-532687.0</td>\n",
              "      <td>27.1</td>\n",
              "      <td>2.36</td>\n",
              "      <td>460</td>\n",
              "      <td>34.5</td>\n",
              "      <td>471828295.0</td>\n",
              "      <td>17.71</td>\n",
              "      <td>7713468100</td>\n",
              "      <td>2</td>\n",
              "    </tr>\n",
              "    <tr>\n",
              "      <th>20</th>\n",
              "      <td>2018</td>\n",
              "      <td>India</td>\n",
              "      <td>1352642280</td>\n",
              "      <td>1.04</td>\n",
              "      <td>13965495</td>\n",
              "      <td>-532687.0</td>\n",
              "      <td>27.1</td>\n",
              "      <td>2.36</td>\n",
              "      <td>455</td>\n",
              "      <td>34.1</td>\n",
              "      <td>460779764.0</td>\n",
              "      <td>17.73</td>\n",
              "      <td>7631091040</td>\n",
              "      <td>2</td>\n",
              "    </tr>\n",
              "    <tr>\n",
              "      <th>21</th>\n",
              "      <td>2017</td>\n",
              "      <td>India</td>\n",
              "      <td>1338676785</td>\n",
              "      <td>1.07</td>\n",
              "      <td>14159536</td>\n",
              "      <td>-532687.0</td>\n",
              "      <td>27.1</td>\n",
              "      <td>2.36</td>\n",
              "      <td>450</td>\n",
              "      <td>33.6</td>\n",
              "      <td>449963381.0</td>\n",
              "      <td>17.74</td>\n",
              "      <td>7547858925</td>\n",
              "      <td>2</td>\n",
              "    </tr>\n",
              "    <tr>\n",
              "      <th>22</th>\n",
              "      <td>2016</td>\n",
              "      <td>India</td>\n",
              "      <td>1324517249</td>\n",
              "      <td>1.10</td>\n",
              "      <td>14364846</td>\n",
              "      <td>-532687.0</td>\n",
              "      <td>27.1</td>\n",
              "      <td>2.36</td>\n",
              "      <td>445</td>\n",
              "      <td>33.2</td>\n",
              "      <td>439391699.0</td>\n",
              "      <td>17.75</td>\n",
              "      <td>7464022049</td>\n",
              "      <td>2</td>\n",
              "    </tr>\n",
              "  </tbody>\n",
              "</table>\n",
              "</div>"
            ],
            "text/plain": [
              "    Year Country  ...  World Population  Country Global Rank\n",
              "18  2020   India  ...        7794798739                    2\n",
              "19  2019   India  ...        7713468100                    2\n",
              "20  2018   India  ...        7631091040                    2\n",
              "21  2017   India  ...        7547858925                    2\n",
              "22  2016   India  ...        7464022049                    2\n",
              "\n",
              "[5 rows x 14 columns]"
            ]
          },
          "metadata": {
            "tags": []
          },
          "execution_count": 18
        }
      ]
    },
    {
      "cell_type": "code",
      "metadata": {
        "id": "o3nlunMGBc1Z"
      },
      "source": [
        "def getZscore(array):\n",
        "  return (array - array.mean(axis=0)) / array.std(axis=0)\n",
        "\n",
        "def getPvalue(array):\n",
        "  return scipy.stats.norm.sf(abs(array)) *2\n",
        "\n",
        "def normalize(array):\n",
        "  newArray = (array - array.min()) / (array.max() - array.min())\n",
        "  return newArray\n",
        "\n",
        "def getValues(array):\n",
        "  values = {'mean':array.mean(), 'variance':array.var(), 'normalized': normalize(array), 'z-score': getZscore(array)}\n",
        "  normArr = values['normalized']\n",
        "  values['normMean'] = round(normArr.mean(), 3)\n",
        "  values['normVar'] = round(normArr.var(), 3)\n",
        "  values['pValue']: getPvalue(values['z-score'])\n",
        "  zscoreArr =  values['z-score']\n",
        "  values['stdMean'] = round(zscoreArr.mean(), 3)\n",
        "  values['stdVar'] = round(zscoreArr.var(), 3)\n",
        "  return values\n",
        "\n",
        "pop = getValues(np.array(list(df1['Population'])))\n",
        "percChange = getValues(np.array(list(df1['Yearly % Change'])))\n",
        "change = getValues(np.array(list(df1['Yearly Change'])))\n",
        "migrants = getValues(np.array(list(df1['Migrants (net)'])))\n",
        "medianAge = getValues(np.array(list(df1['Median Age'])))\n",
        "fertility = getValues(np.array(list(df1['Fertility Rate'])))\n",
        "density = getValues(np.array(list(df1['Density (P/Km²)'])).astype(np.float))\n",
        "urbanPopPerc = getValues(np.array(list(df1['Urban Pop %'])))\n",
        "urbanPop = getValues(np.array(list(df1['Urban Population'])))\n",
        "worldPopShare = getValues(np.array(list(df1['Country\\'s Share of World Pop %'])))\n",
        "worldPop = getValues(np.array(list(df1['World Population'])))"
      ],
      "execution_count": 19,
      "outputs": []
    },
    {
      "cell_type": "code",
      "metadata": {
        "id": "MiUwjfReEc7w",
        "outputId": "eebecb14-f1d4-42a2-f87b-11124c7b563c",
        "colab": {
          "base_uri": "https://localhost:8080/"
        }
      },
      "source": [
        "print('MEAN')\n",
        "print('Population:', pop['mean'])\n",
        "print('Yearly % Change:', percChange['mean'])\n",
        "print('Yearly Change:', change['mean'])\n",
        "print('Migrants (net):', migrants['mean'])\n",
        "print('Median Age:', medianAge['mean'])\n",
        "print('Fertility Rate:', fertility['mean'])\n",
        "print('Density (P/Km²):', density['mean'])\n",
        "print('Urban Pop %:', urbanPopPerc['mean'])\n",
        "print('Urban Population:', urbanPop['mean'])\n",
        "print('Country\\'s Share of World Pop %:', worldPopShare['mean'])\n",
        "print('World Population:', worldPop['mean'])\n",
        "\n",
        "print('\\n')\n",
        "\n",
        "print('VARIANCE')\n",
        "print('Population:', pop['variance'])\n",
        "print('Yearly % Change:', percChange['variance'])\n",
        "print('Yearly Change:', change['variance'])\n",
        "print('Migrants (net):', migrants['variance'])\n",
        "print('Median Age:', medianAge['variance'])\n",
        "print('Fertility Rate:', fertility['variance'])\n",
        "print('Density (P/Km²):', density['variance'])\n",
        "print('Urban Pop %:', urbanPopPerc['variance'])\n",
        "print('Urban Population:', urbanPop['variance'])\n",
        "print('Country\\'s Share of World Pop %:', worldPopShare['variance'])\n",
        "print('World Population:', worldPop['variance'])"
      ],
      "execution_count": 20,
      "outputs": [
        {
          "output_type": "stream",
          "text": [
            "MEAN\n",
            "Population: 964957501.5\n",
            "Yearly % Change: 1.6888888888888889\n",
            "Yearly Change: 14256523.555555556\n",
            "Migrants (net): -203260.27777777778\n",
            "Median Age: 23.244444444444444\n",
            "Fertility Rate: 3.8927777777777783\n",
            "Density (P/Km²): 324.6111111111111\n",
            "Urban Pop %: 26.950000000000003\n",
            "Urban Population: 280986976.5\n",
            "Country's Share of World Pop %: 16.59222222222222\n",
            "World Population: 5694505592.888889\n",
            "\n",
            "\n",
            "VARIANCE\n",
            "Population: 1.2068984568142062e+17\n",
            "Yearly % Change: 0.24167654320987653\n",
            "Yearly Change: 11443868561851.246\n",
            "Migrants (net): 88804804485.64507\n",
            "Median Age: 10.156913580246915\n",
            "Fertility Rate: 1.9945978395061732\n",
            "Density (P/Km²): 13624.682098765434\n",
            "Urban Pop %: 36.441388888888895\n",
            "Urban Population: 2.1961694692320596e+16\n",
            "Country's Share of World Pop %: 1.3780506172839506\n",
            "World Population: 3.01335681756436e+18\n"
          ],
          "name": "stdout"
        }
      ]
    },
    {
      "cell_type": "code",
      "metadata": {
        "id": "5iiStCHGWv27",
        "outputId": "88a9bd11-1d3d-46c4-e7ba-8bc89ce8f044",
        "colab": {
          "base_uri": "https://localhost:8080/"
        }
      },
      "source": [
        "print('NORMALIZED MEAN')\n",
        "print('Population:', pop['normMean'])\n",
        "print('Yearly % Change:', percChange['normMean'])\n",
        "print('Yearly Change:', change['normMean'])\n",
        "print('Migrants (net):', migrants['normMean'])\n",
        "print('Median Age:', medianAge['normMean'])\n",
        "print('Fertility Rate:', fertility['normMean'])\n",
        "print('Density (P/Km²):', density['normMean'])\n",
        "print('Urban Pop %:', urbanPopPerc['normMean'])\n",
        "print('Urban Population:', urbanPop['normMean'])\n",
        "print('Country\\'s Share of World Pop %:', worldPopShare['normMean'])\n",
        "print('World Population:', worldPop['normMean'])\n",
        "\n",
        "print('\\n')\n",
        "\n",
        "print('NORMALIZED VARIANCE')\n",
        "print('Population:', pop['normVar'])\n",
        "print('Yearly % Change:', percChange['normVar'])\n",
        "print('Yearly Change:', change['normVar'])\n",
        "print('Migrants (net):', migrants['normVar'])\n",
        "print('Median Age:', medianAge['normVar'])\n",
        "print('Fertility Rate:', fertility['normVar'])\n",
        "print('Density (P/Km²):', density['normVar'])\n",
        "print('Urban Pop %:', urbanPopPerc['normVar'])\n",
        "print('Urban Population:', urbanPop['normVar'])\n",
        "print('Country\\'s Share of World Pop %:', worldPopShare['normVar'])\n",
        "print('World Population:', worldPop['normVar'])"
      ],
      "execution_count": 21,
      "outputs": [
        {
          "output_type": "stream",
          "text": [
            "NORMALIZED MEAN\n",
            "Population: 0.572\n",
            "Yearly % Change: 0.522\n",
            "Yearly Change: 0.638\n",
            "Migrants (net): 0.345\n",
            "Median Age: 0.433\n",
            "Fertility Rate: 0.452\n",
            "Density (P/Km²): 0.572\n",
            "Urban Pop %: 0.537\n",
            "Urban Population: 0.508\n",
            "Country's Share of World Pop %: 0.61\n",
            "World Population: 0.582\n",
            "\n",
            "\n",
            "NORMALIZED VARIANCE\n",
            "Population: 0.128\n",
            "Yearly % Change: 0.135\n",
            "Yearly Change: 0.082\n",
            "Migrants (net): 0.098\n",
            "Median Age: 0.123\n",
            "Fertility Rate: 0.149\n",
            "Density (P/Km²): 0.128\n",
            "Urban Pop %: 0.12\n",
            "Urban Population: 0.13\n",
            "Country's Share of World Pop %: 0.156\n",
            "World Population: 0.119\n"
          ],
          "name": "stdout"
        }
      ]
    },
    {
      "cell_type": "code",
      "metadata": {
        "id": "86CT-N4XE4Ak",
        "outputId": "34257b6a-8a9d-4460-89fa-4d152f49efe5",
        "colab": {
          "base_uri": "https://localhost:8080/"
        }
      },
      "source": [
        "print('STANDARDIZED MEAN')\n",
        "print('Population:', pop['stdMean'])\n",
        "print('Yearly % Change:', percChange['stdMean'])\n",
        "print('Yearly Change:', change['stdMean'])\n",
        "print('Migrants (net):', migrants['stdMean'])\n",
        "print('Median Age:', medianAge['stdMean'])\n",
        "print('Fertility Rate:', fertility['stdMean'])\n",
        "print('Density (P/Km²):', density['stdMean'])\n",
        "print('Urban Pop %:', urbanPopPerc['stdMean'])\n",
        "print('Urban Population:', urbanPop['stdMean'])\n",
        "print('Country\\'s Share of World Pop %:', worldPopShare['stdMean'])\n",
        "print('World Population:', worldPop['stdMean'])\n",
        "\n",
        "print('\\n')\n",
        "\n",
        "print('STANDARDIZED VARIANCE')\n",
        "print('Population:', pop['stdVar'])\n",
        "print('Yearly % Change:', percChange['stdVar'])\n",
        "print('Yearly Change:', change['stdVar'])\n",
        "print('Migrants (net):', migrants['stdVar'])\n",
        "print('Median Age:', medianAge['stdVar'])\n",
        "print('Fertility Rate:', fertility['stdVar'])\n",
        "print('Density (P/Km²):', density['stdVar'])\n",
        "print('Urban Pop %:', urbanPopPerc['stdVar'])\n",
        "print('Urban Population:', urbanPop['stdVar'])\n",
        "print('Country\\'s Share of World Pop %:', worldPopShare['stdVar'])\n",
        "print('World Population:', worldPop['stdVar'])"
      ],
      "execution_count": 22,
      "outputs": [
        {
          "output_type": "stream",
          "text": [
            "STANDARDIZED MEAN\n",
            "Population: -0.0\n",
            "Yearly % Change: -0.0\n",
            "Yearly Change: -0.0\n",
            "Migrants (net): -0.0\n",
            "Median Age: 0.0\n",
            "Fertility Rate: -0.0\n",
            "Density (P/Km²): 0.0\n",
            "Urban Pop %: -0.0\n",
            "Urban Population: 0.0\n",
            "Country's Share of World Pop %: 0.0\n",
            "World Population: -0.0\n",
            "\n",
            "\n",
            "STANDARDIZED VARIANCE\n",
            "Population: 1.0\n",
            "Yearly % Change: 1.0\n",
            "Yearly Change: 1.0\n",
            "Migrants (net): 1.0\n",
            "Median Age: 1.0\n",
            "Fertility Rate: 1.0\n",
            "Density (P/Km²): 1.0\n",
            "Urban Pop %: 1.0\n",
            "Urban Population: 1.0\n",
            "Country's Share of World Pop %: 1.0\n",
            "World Population: 1.0\n"
          ],
          "name": "stdout"
        }
      ]
    },
    {
      "cell_type": "code",
      "metadata": {
        "id": "NTX2bPh1s26p",
        "outputId": "9a4f26ee-4215-4e46-ba20-a55bba579651",
        "colab": {
          "base_uri": "https://localhost:8080/",
          "height": 350
        }
      },
      "source": [
        "labels = np.array(df1['Year'])\n",
        "\n",
        "x = np.arange(len(labels))\n",
        "width = 0.35\n",
        "fig, ax = plt.subplots(figsize = (10, 5))\n",
        "\n",
        "rect1 = ax.bar(x-width/2, df1['Fertility Rate'], width, label = 'Fertility Rate')\n",
        "rect2 = ax.bar(x+width/2, df1['Yearly % Change'], width, label = 'Yearly  % Change')\n",
        "\n",
        "ax.set_ylabel('Rates')\n",
        "ax.set_xlabel('Year')\n",
        "ax.set_title('Fertility Rate and Yearly % Change in Population over the years')\n",
        "ax.set_xticks(x)\n",
        "ax.set_xticklabels(labels)\n",
        "ax.invert_xaxis()\n",
        "ax.legend()\n",
        "\n",
        "plt.show()"
      ],
      "execution_count": 23,
      "outputs": [
        {
          "output_type": "display_data",
          "data": {
            "image/png": "[encoded data removed]",
            "text/plain": [
              "<Figure size 720x360 with 1 Axes>"
            ]
          },
          "metadata": {
            "tags": [],
            "needs_background": "light"
          }
        }
      ]
    },
    {
      "cell_type": "code",
      "metadata": {
        "id": "LjiLwjH1zKl1",
        "outputId": "312ae40e-ed95-4cec-d8a5-db6b8795d575",
        "colab": {
          "base_uri": "https://localhost:8080/",
          "height": 350
        }
      },
      "source": [
        "labels = np.array(df1['Year'])\n",
        "\n",
        "x = np.arange(len(labels))\n",
        "width = 0.35\n",
        "fig, ax = plt.subplots(figsize = (10, 5))\n",
        "\n",
        "rect1 = ax.bar(x-width/2, fertility['normalized'], width, label = 'Fertility Rate')\n",
        "rect2 = ax.bar(x+width/2, percChange['normalized'], width, label = 'Yearly  % Change')\n",
        "\n",
        "ax.set_ylabel('Rates')\n",
        "ax.set_xlabel('Year')\n",
        "ax.set_title('Normalized Fertility Rate and Yearly % Change in Population over the years')\n",
        "ax.set_xticks(x)\n",
        "ax.set_xticklabels(labels)\n",
        "ax.invert_xaxis()\n",
        "ax.legend()\n",
        "\n",
        "plt.show()"
      ],
      "execution_count": 24,
      "outputs": [
        {
          "output_type": "display_data",
          "data": {
            "image/png": "[encoded data removed]",
            "text/plain": [
              "<Figure size 720x360 with 1 Axes>"
            ]
          },
          "metadata": {
            "tags": [],
            "needs_background": "light"
          }
        }
      ]
    },
    {
      "cell_type": "code",
      "metadata": {
        "id": "-RSLgz_RzsVz",
        "outputId": "a4f85fc8-1b54-42a6-dac9-2bf1fd0cecfb",
        "colab": {
          "base_uri": "https://localhost:8080/",
          "height": 252
        }
      },
      "source": [
        "plt.boxplot(fertility['normalized'])\n",
        "plt.xticks([])\n",
        "plt.ylabel('Normalized Fertility Rate')\n",
        "plt.show()"
      ],
      "execution_count": 25,
      "outputs": [
        {
          "output_type": "display_data",
          "data": {
            "image/png": "[encoded data removed]",
            "text/plain": [
              "<Figure size 432x288 with 1 Axes>"
            ]
          },
          "metadata": {
            "tags": [],
            "needs_background": "light"
          }
        }
      ]
    },
    {
      "cell_type": "code",
      "metadata": {
        "id": "7Z4mPp6UOFjH",
        "outputId": "dc8166e7-8bc4-4605-c0d0-ddda0a87568e",
        "colab": {
          "base_uri": "https://localhost:8080/",
          "height": 252
        }
      },
      "source": [
        "plt.boxplot(percChange['normalized'])\n",
        "plt.xticks([])\n",
        "plt.ylabel('Normalized Yearly % Change')\n",
        "plt.show()"
      ],
      "execution_count": 26,
      "outputs": [
        {
          "output_type": "display_data",
          "data": {
            "image/png": "[encoded data removed]",
            "text/plain": [
              "<Figure size 432x288 with 1 Axes>"
            ]
          },
          "metadata": {
            "tags": [],
            "needs_background": "light"
          }
        }
      ]
    },
    {
      "cell_type": "markdown",
      "metadata": {
        "id": "9Ma_epx1QOtY"
      },
      "source": [
        "Correlation Plots "
      ]
    },
    {
      "cell_type": "code",
      "metadata": {
        "id": "L7IppE0tQ7wx",
        "outputId": "d0720a91-061f-4491-a5a1-0b3c0aea7ab6",
        "colab": {
          "base_uri": "https://localhost:8080/",
          "height": 295
        }
      },
      "source": [
        "#Median Age vs Fertility Rate Worldwide\n",
        "\n",
        "plt.scatter(df['Median Age'], df['Fertility Rate'])\n",
        "plt.xlabel('Median Age')\n",
        "plt.ylabel('Fertility Rate')\n",
        "plt.title('Median Age vs Fertility Rate')\n",
        "plt.show()"
      ],
      "execution_count": 27,
      "outputs": [
        {
          "output_type": "display_data",
          "data": {
            "image/png": "[encoded data removed]",
            "text/plain": [
              "<Figure size 432x288 with 1 Axes>"
            ]
          },
          "metadata": {
            "tags": [],
            "needs_background": "light"
          }
        }
      ]
    },
    {
      "cell_type": "code",
      "metadata": {
        "id": "1NHjO44fSCiX",
        "outputId": "214953b3-912a-4e56-b8b2-5c80fd9ee450",
        "colab": {
          "base_uri": "https://localhost:8080/",
          "height": 295
        }
      },
      "source": [
        "#Fertility Rate and Yearly % Change for 2015 \n",
        "\n",
        "x = df[df['Year'] == 2015]['Fertility Rate']\n",
        "y = df[df['Year'] == 2015]['Yearly % Change']\n",
        "\n",
        "plt.scatter(x, y) \n",
        "plt.xlabel('Fertility Rate')\n",
        "plt.ylabel('Yearly % Change')\n",
        "plt.title('Fertility Rate vs Yearly % Change')\n",
        "plt.show()"
      ],
      "execution_count": 28,
      "outputs": [
        {
          "output_type": "display_data",
          "data": {
            "image/png": "[encoded data removed]",
            "text/plain": [
              "<Figure size 432x288 with 1 Axes>"
            ]
          },
          "metadata": {
            "tags": [],
            "needs_background": "light"
          }
        }
      ]
    },
    {
      "cell_type": "code",
      "metadata": {
        "id": "3M9tYBJhbjaD",
        "outputId": "f8a23845-ebdc-4f89-89a0-f84314303262",
        "colab": {
          "base_uri": "https://localhost:8080/",
          "height": 295
        }
      },
      "source": [
        "df_nz = DataFrameDict['New Zealand'].iloc[::-1]\n",
        "\n",
        "plt.scatter(df_nz['Population'],df_nz['Density (P/Km²)'])\n",
        "plt.gcf().axes[0].xaxis.get_major_formatter().set_scientific(False)\n",
        "\n",
        "plt.xlabel('Population')\n",
        "plt.ylabel('Population Density')\n",
        "plt.title('Population vs Population Density in New Zealand')\n",
        "plt.show()"
      ],
      "execution_count": 30,
      "outputs": [
        {
          "output_type": "display_data",
          "data": {
            "image/png": "[encoded data removed]",
            "text/plain": [
              "<Figure size 432x288 with 1 Axes>"
            ]
          },
          "metadata": {
            "tags": [],
            "needs_background": "light"
          }
        }
      ]
    },
    {
      "cell_type": "code",
      "metadata": {
        "id": "I-fCgGW6RwdR",
        "outputId": "e132309a-2c91-4a58-c7c4-2a402a4cecce",
        "colab": {
          "base_uri": "https://localhost:8080/",
          "height": 295
        }
      },
      "source": [
        "df_india = df[df['Country']=='India']\n",
        "\n",
        "plt.scatter(df_india['Fertility Rate'],df_india['Median Age'])\n",
        "plt.xlabel('Fertility Rate')\n",
        "plt.ylabel('Median Age')\n",
        "plt.title('Fertility Rate vs Median Age in India')\n",
        "plt.show()"
      ],
      "execution_count": 31,
      "outputs": [
        {
          "output_type": "display_data",
          "data": {
            "image/png": "[encoded data removed]",
            "text/plain": [
              "<Figure size 432x288 with 1 Axes>"
            ]
          },
          "metadata": {
            "tags": [],
            "needs_background": "light"
          }
        }
      ]
    },
    {
      "cell_type": "code",
      "metadata": {
        "id": "1P8RPTi5cQ4T",
        "outputId": "a6718c9a-8914-491b-f25b-71bdc97247e2",
        "colab": {
          "base_uri": "https://localhost:8080/",
          "height": 295
        }
      },
      "source": [
        "plt.scatter(df_india['Population'], df_india['Urban Population'])\n",
        "plt.xlabel('Population')\n",
        "plt.ylabel('Urban Population')\n",
        "plt.title('Population vs Urban Population in India')\n",
        "plt.gcf().axes[0].xaxis.get_major_formatter().set_scientific(False)\n",
        "plt.gcf().axes[0].yaxis.get_major_formatter().set_scientific(False)\n",
        "plt.show()"
      ],
      "execution_count": 32,
      "outputs": [
        {
          "output_type": "display_data",
          "data": {
            "image/png": "[encoded data removed]",
            "text/plain": [
              "<Figure size 432x288 with 1 Axes>"
            ]
          },
          "metadata": {
            "tags": [],
            "needs_background": "light"
          }
        }
      ]
    },
    {
      "cell_type": "code",
      "metadata": {
        "id": "8HHs-owpcdzI",
        "outputId": "4d4595b8-0030-4ca8-b661-f6053b72a0f1",
        "colab": {
          "base_uri": "https://localhost:8080/",
          "height": 265
        }
      },
      "source": [
        "plt.scatter(df_india['Population'], df_india['Fertility Rate'])\n",
        "plt.xlabel('Population')\n",
        "plt.ylabel('Fertility Rate')\n",
        "plt.title('Population vs Fertility Rate in India')\n",
        "plt.gcf().axes[0].xaxis.get_major_formatter().set_scientific(False)\n",
        "plt.gcf().axes[0].yaxis.get_major_formatter().set_scientific(False)\n",
        "plt.show()"
      ],
      "execution_count": 33,
      "outputs": [
        {
          "output_type": "display_data",
          "data": {
            "image/png": "[encoded data removed]",
            "text/plain": [
              "<Figure size 432x288 with 1 Axes>"
            ]
          },
          "metadata": {
            "tags": [],
            "needs_background": "light"
          }
        }
      ]
    },
    {
      "cell_type": "markdown",
      "metadata": {
        "id": "ueewKxvnxV7L"
      },
      "source": [
        "Hypothesis Testing"
      ]
    },
    {
      "cell_type": "code",
      "metadata": {
        "id": "iWOJXf0PT8Rc",
        "outputId": "e9b42127-8f99-4cda-dd49-1fde1aaf0faa",
        "colab": {
          "base_uri": "https://localhost:8080/"
        }
      },
      "source": [
        "df4 = df[df['Country'] == 'Cuba']\n",
        "df5 = df[df['Country'] == 'Hungary']"
      ],
      "execution_count": 34,
      "outputs": [
        {
          "output_type": "stream",
          "text": [
            "     Country  Fertility Rate\n",
            "1476    Cuba            1.62\n",
            "1477    Cuba            1.69\n",
            "1478    Cuba            1.69\n",
            "1479    Cuba            1.69\n",
            "1480    Cuba            1.69\n",
            "1481    Cuba            1.71\n",
            "1482    Cuba            1.58\n",
            "1483    Cuba            1.59\n",
            "1484    Cuba            1.61\n",
            "1485    Cuba            1.58\n",
            "1486    Cuba            1.85\n",
            "1487    Cuba            1.85\n",
            "1488    Cuba            2.15\n",
            "1489    Cuba            3.55\n",
            "1490    Cuba            4.18\n",
            "1491    Cuba            4.68\n",
            "1492    Cuba            3.70\n",
            "1493    Cuba            4.15\n",
            "      Country  Fertility Rate\n",
            "1674  Hungary            1.49\n",
            "1675  Hungary            1.36\n",
            "1676  Hungary            1.36\n",
            "1677  Hungary            1.36\n",
            "1678  Hungary            1.36\n",
            "1679  Hungary            1.33\n",
            "1680  Hungary            1.33\n",
            "1681  Hungary            1.30\n",
            "1682  Hungary            1.38\n",
            "1683  Hungary            1.74\n",
            "1684  Hungary            1.82\n",
            "1685  Hungary            1.81\n",
            "1686  Hungary            2.25\n",
            "1687  Hungary            2.04\n",
            "1688  Hungary            1.98\n",
            "1689  Hungary            1.81\n",
            "1690  Hungary            2.32\n",
            "1691  Hungary            2.69\n"
          ],
          "name": "stdout"
        }
      ]
    },
    {
      "cell_type": "code",
      "metadata": {
        "id": "XDKt-WI_UTbm",
        "outputId": "32886f83-5b33-4feb-ffc0-3abc470981db",
        "colab": {
          "base_uri": "https://localhost:8080/"
        }
      },
      "source": [
        "print('Cuba\\'s Population Mean:', df4['Population'].mean())\n",
        "print('Hungary\\'s Population Mean:', df5['Population'].mean())"
      ],
      "execution_count": 44,
      "outputs": [
        {
          "output_type": "stream",
          "text": [
            "Cuba Population Mean: 10157871.166666666\n",
            "Hungary Population Mean: 10082571.333333334\n"
          ],
          "name": "stdout"
        }
      ]
    },
    {
      "cell_type": "code",
      "metadata": {
        "id": "MkQGgaqW1VAB",
        "outputId": "45c5c6f0-98a8-4052-f681-cd0afeaf3051",
        "colab": {
          "base_uri": "https://localhost:8080/"
        }
      },
      "source": [
        "print('Cuba\\'s Population Density Mean:', df4['Density (P/Km²)'].astype(float).mean())\n",
        "print('Hungary\\'s Population Density Mean:', df5['Density (P/Km²)'].astype(float).mean())"
      ],
      "execution_count": 45,
      "outputs": [
        {
          "output_type": "stream",
          "text": [
            "Cuba Population Density Mean: 95.44444444444444\n",
            "Hungary Population Density Mean: 111.38888888888889\n"
          ],
          "name": "stdout"
        }
      ]
    },
    {
      "cell_type": "code",
      "metadata": {
        "id": "22nXa9BnsW7T",
        "outputId": "1a44ac72-976e-4e8d-a6d5-eacc5b1bc98b",
        "colab": {
          "base_uri": "https://localhost:8080/"
        }
      },
      "source": [
        "pd.set_option('display.max_rows', None)\n",
        "pd.set_option('display.max_columns', None)\n",
        "pd.set_option('display.width', None)\n",
        "pd.set_option('display.max_colwidth', -1)\n",
        "\n",
        "df6 = df.groupby('Country')\n",
        "m = df[df['Country'] == 'Hungary']['Fertility Rate'].mean()\n",
        "print('Hungary\\'s Mean Fertility Rate:', m)"
      ],
      "execution_count": 46,
      "outputs": [
        {
          "output_type": "stream",
          "text": [
            "Hungary's Mean Fertility Rate: 1.7072222222222224\n"
          ],
          "name": "stdout"
        },
        {
          "output_type": "stream",
          "text": [
            "/usr/local/lib/python3.6/dist-packages/ipykernel_launcher.py:4: FutureWarning: Passing a negative integer is deprecated in version 1.0 and will not be supported in future version. Instead, use None to not limit the column width.\n",
            "  after removing the cwd from sys.path.\n"
          ],
          "name": "stderr"
        }
      ]
    },
    {
      "cell_type": "markdown",
      "metadata": {
        "id": "CTEWsfovsnap"
      },
      "source": [
        "H0: mu = 1.7072222222222224\n",
        "\n",
        "H1: mu != 1.7072222222222224"
      ]
    },
    {
      "cell_type": "code",
      "metadata": {
        "id": "uedal22XspMq",
        "outputId": "7c8bffc9-1b0b-4889-c1ce-4c507db859c7",
        "colab": {
          "base_uri": "https://localhost:8080/"
        }
      },
      "source": [
        "m0 = df[df['Country'] == 'Cuba']['Fertility Rate'].mean()\n",
        "s0 = df[df['Country'] == 'Cuba']['Fertility Rate'].std()\n",
        "\n",
        "print(m0, s0)"
      ],
      "execution_count": 38,
      "outputs": [
        {
          "output_type": "stream",
          "text": [
            "2.3644444444444446 1.1064634824107376\n"
          ],
          "name": "stdout"
        }
      ]
    },
    {
      "cell_type": "code",
      "metadata": {
        "id": "6TJLwkoAsw3w",
        "outputId": "5e4f89e7-1ee8-4ff8-ac29-a5855d79428a",
        "colab": {
          "base_uri": "https://localhost:8080/"
        }
      },
      "source": [
        "import math\n",
        "\n",
        "m1 = 1.7072222222222224\n",
        "s1 = 1.1064634824107376/math.sqrt(18)\n",
        "\n",
        "print(m1, s1)"
      ],
      "execution_count": 39,
      "outputs": [
        {
          "output_type": "stream",
          "text": [
            "1.7072222222222224 0.26079594384930493\n"
          ],
          "name": "stdout"
        }
      ]
    },
    {
      "cell_type": "code",
      "metadata": {
        "id": "vInv_KlHsz__",
        "outputId": "d041ffff-c2da-4710-f4ac-d1f9cd112701",
        "colab": {
          "base_uri": "https://localhost:8080/"
        }
      },
      "source": [
        "z = (m0-m1)/s1\n",
        "print(z)"
      ],
      "execution_count": 40,
      "outputs": [
        {
          "output_type": "stream",
          "text": [
            "2.520063052061819\n"
          ],
          "name": "stdout"
        }
      ]
    },
    {
      "cell_type": "code",
      "metadata": {
        "id": "t6xWi9Kus8Y-",
        "outputId": "28887c60-4181-4e36-e32e-a2ef79874734",
        "colab": {
          "base_uri": "https://localhost:8080/"
        }
      },
      "source": [
        "answer = 2*(1-0.9941)\n",
        "print(answer)"
      ],
      "execution_count": 41,
      "outputs": [
        {
          "output_type": "execute_result",
          "data": {
            "text/plain": [
              "0.011800000000000033"
            ]
          },
          "metadata": {
            "tags": []
          },
          "execution_count": 41
        }
      ]
    },
    {
      "cell_type": "markdown",
      "metadata": {
        "id": "y-EOMwfXtFge"
      },
      "source": [
        "There is enough evidence against H0 that H0 can be rejected. Hence, the hypothesis that the mean Fertility Rate of Cuba over the years is equal to 1.707 is rejected.\n"
      ]
    }
  ]
}