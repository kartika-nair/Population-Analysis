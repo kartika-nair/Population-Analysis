{
  "nbformat": 4,
  "nbformat_minor": 0,
  "metadata": {
    "colab": {
      "name": "PopulationAnalysis.ipynb",
      "provenance": [],
      "mount_file_id": "1FnObKIlweVJNLCebYZhWpDriJwp1y4cL",
      "authorship_tag": "ABX9TyN6fDCdaeLBLH8b8IzkN5UR",
      "include_colab_link": true
    },
    "kernelspec": {
      "name": "python3",
      "display_name": "Python 3"
    }
  },
  "cells": [
    {
      "cell_type": "markdown",
      "metadata": {
        "id": "view-in-github",
        "colab_type": "text"
      },
      "source": [
        "<a href=\"https://colab.research.google.com/github/kartika-nair/SDS-Project/blob/master/PopulationAnalysis.ipynb\" target=\"_parent\"><img src=\"https://colab.research.google.com/assets/colab-badge.svg\" alt=\"Open In Colab\"/></a>"
      ]
    },
    {
      "cell_type": "code",
      "metadata": {
        "id": "n2V3qN-TmLk1"
      },
      "source": [
        "# from google.colab import drive\n",
        "# drive.mount('/content/drive')"
      ],
      "execution_count": 1,
      "outputs": []
    },
    {
      "cell_type": "code",
      "metadata": {
        "id": "AzcAty3kn0kb"
      },
      "source": [
        "import pandas as pd"
      ],
      "execution_count": 2,
      "outputs": []
    },
    {
      "cell_type": "code",
      "metadata": {
        "id": "cvLvLdRmOySD",
        "outputId": "ba16e654-9591-4a0f-eae4-bea1488a003a",
        "colab": {
          "base_uri": "https://localhost:8080/",
          "height": 237
        }
      },
      "source": [
        "df = pd.read_csv(\"/content/drive/My Drive/Colab Notebooks/PopulationDataset.csv\")\n",
        "df.head()"
      ],
      "execution_count": 3,
      "outputs": [
        {
          "output_type": "execute_result",
          "data": {
            "text/html": [
              "<div>\n",
              "<style scoped>\n",
              "    .dataframe tbody tr th:only-of-type {\n",
              "        vertical-align: middle;\n",
              "    }\n",
              "\n",
              "    .dataframe tbody tr th {\n",
              "        vertical-align: top;\n",
              "    }\n",
              "\n",
              "    .dataframe thead th {\n",
              "        text-align: right;\n",
              "    }\n",
              "</style>\n",
              "<table border=\"1\" class=\"dataframe\">\n",
              "  <thead>\n",
              "    <tr style=\"text-align: right;\">\n",
              "      <th></th>\n",
              "      <th>Year</th>\n",
              "      <th>Country</th>\n",
              "      <th>Population</th>\n",
              "      <th>Yearly % Change</th>\n",
              "      <th>Yearly Change</th>\n",
              "      <th>Migrants (net)</th>\n",
              "      <th>Median Age</th>\n",
              "      <th>Fertility Rate</th>\n",
              "      <th>Density (P/Km²)</th>\n",
              "      <th>Urban Pop %</th>\n",
              "      <th>Urban Population</th>\n",
              "      <th>Country's Share of World Pop %</th>\n",
              "      <th>World Population</th>\n",
              "      <th>Country Global Rank</th>\n",
              "    </tr>\n",
              "  </thead>\n",
              "  <tbody>\n",
              "    <tr>\n",
              "      <th>0</th>\n",
              "      <td>2020</td>\n",
              "      <td>China</td>\n",
              "      <td>1439323776</td>\n",
              "      <td>0.39</td>\n",
              "      <td>5540090</td>\n",
              "      <td>-348399.0</td>\n",
              "      <td>38.4</td>\n",
              "      <td>1.69</td>\n",
              "      <td>153</td>\n",
              "      <td>60.8</td>\n",
              "      <td>875075919.0</td>\n",
              "      <td>18.47</td>\n",
              "      <td>7794798739</td>\n",
              "      <td>1</td>\n",
              "    </tr>\n",
              "    <tr>\n",
              "      <th>1</th>\n",
              "      <td>2019</td>\n",
              "      <td>China</td>\n",
              "      <td>1433783686</td>\n",
              "      <td>0.43</td>\n",
              "      <td>6135900</td>\n",
              "      <td>-348399.0</td>\n",
              "      <td>37.0</td>\n",
              "      <td>1.65</td>\n",
              "      <td>153</td>\n",
              "      <td>59.7</td>\n",
              "      <td>856409297.0</td>\n",
              "      <td>18.59</td>\n",
              "      <td>7713468100</td>\n",
              "      <td>1</td>\n",
              "    </tr>\n",
              "    <tr>\n",
              "      <th>2</th>\n",
              "      <td>2018</td>\n",
              "      <td>China</td>\n",
              "      <td>1427647786</td>\n",
              "      <td>0.47</td>\n",
              "      <td>6625995</td>\n",
              "      <td>-348399.0</td>\n",
              "      <td>37.0</td>\n",
              "      <td>1.65</td>\n",
              "      <td>152</td>\n",
              "      <td>58.6</td>\n",
              "      <td>837022095.0</td>\n",
              "      <td>18.71</td>\n",
              "      <td>7631091040</td>\n",
              "      <td>1</td>\n",
              "    </tr>\n",
              "    <tr>\n",
              "      <th>3</th>\n",
              "      <td>2017</td>\n",
              "      <td>China</td>\n",
              "      <td>1421021791</td>\n",
              "      <td>0.49</td>\n",
              "      <td>6972440</td>\n",
              "      <td>-348399.0</td>\n",
              "      <td>37.0</td>\n",
              "      <td>1.65</td>\n",
              "      <td>151</td>\n",
              "      <td>57.5</td>\n",
              "      <td>816957613.0</td>\n",
              "      <td>18.83</td>\n",
              "      <td>7547858925</td>\n",
              "      <td>1</td>\n",
              "    </tr>\n",
              "    <tr>\n",
              "      <th>4</th>\n",
              "      <td>2016</td>\n",
              "      <td>China</td>\n",
              "      <td>1414049351</td>\n",
              "      <td>0.51</td>\n",
              "      <td>7201481</td>\n",
              "      <td>-348399.0</td>\n",
              "      <td>37.0</td>\n",
              "      <td>1.65</td>\n",
              "      <td>151</td>\n",
              "      <td>56.3</td>\n",
              "      <td>796289491.0</td>\n",
              "      <td>18.94</td>\n",
              "      <td>7464022049</td>\n",
              "      <td>1</td>\n",
              "    </tr>\n",
              "  </tbody>\n",
              "</table>\n",
              "</div>"
            ],
            "text/plain": [
              "   Year Country  ...  World Population  Country Global Rank\n",
              "0  2020   China  ...        7794798739                    1\n",
              "1  2019   China  ...        7713468100                    1\n",
              "2  2018   China  ...        7631091040                    1\n",
              "3  2017   China  ...        7547858925                    1\n",
              "4  2016   China  ...        7464022049                    1\n",
              "\n",
              "[5 rows x 14 columns]"
            ]
          },
          "metadata": {
            "tags": []
          },
          "execution_count": 3
        }
      ]
    },
    {
      "cell_type": "code",
      "metadata": {
        "id": "wfNyLW-UQc2G"
      },
      "source": [
        ""
      ],
      "execution_count": 3,
      "outputs": []
    }
  ]
}